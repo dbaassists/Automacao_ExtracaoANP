{
 "cells": [
  {
   "cell_type": "code",
   "execution_count": 2,
   "id": "e7c6af58",
   "metadata": {},
   "outputs": [],
   "source": [
    "# PRIMEIRO PASSO\n",
    "\n",
    "import warnings\n",
    "import pandas as pd\n",
    "import os\n",
    "import seaborn as sns\n",
    "import matplotlib.pyplot as plt\n"
   ]
  },
  {
   "cell_type": "code",
   "execution_count": 3,
   "id": "b61b4c38",
   "metadata": {},
   "outputs": [],
   "source": [
    "%run bibliotecas.ipynb"
   ]
  },
  {
   "cell_type": "code",
   "execution_count": 4,
   "id": "34902054",
   "metadata": {},
   "outputs": [
    {
     "name": "stdout",
     "output_type": "stream",
     "text": [
      "C:\\Temp\\Python_YT\\Download_File\\Combustiveis\\arquivo_primeiro_semestre_2022.zip\n",
      "Download do arquivo realizado e salvo no diretório C:\\Temp\\Python_YT\\Download_File\\Combustiveis\\arquivo_primeiro_semestre_2022.zip\n",
      "C:\\Temp\\Python_YT\\Download_File\\Combustiveis\\arquivo_segundo_semestre_2022.zip\n",
      "Download do arquivo realizado e salvo no diretório C:\\Temp\\Python_YT\\Download_File\\Combustiveis\\arquivo_segundo_semestre_2022.zip\n",
      "C:\\Temp\\Python_YT\\Download_File\\Combustiveis\\arquivo_primeiro_semestre_2023.zip\n",
      "Download do arquivo realizado e salvo no diretório C:\\Temp\\Python_YT\\Download_File\\Combustiveis\\arquivo_primeiro_semestre_2023.zip\n"
     ]
    }
   ],
   "source": [
    "link = ['https://www.gov.br/anp/pt-br/centrais-de-conteudo/dados-abertos/arquivos/shpc/dsas/ca/precos-semestrais-ca.zip'\n",
    "         ,'https://www.gov.br/anp/pt-br/centrais-de-conteudo/dados-abertos/arquivos/shpc/dsas/ca/ca-2022-02.zip'\n",
    "         ,'https://www.gov.br/anp/pt-br/centrais-de-conteudo/dados-abertos/arquivos/shpc/dsas/ca/ca-2023-01.zip'\n",
    "       ]\n",
    "\n",
    "arquivo = ['arquivo_primeiro_semestre_2022.zip'\n",
    "           ,'arquivo_segundo_semestre_2022.zip'\n",
    "           ,'arquivo_primeiro_semestre_2023.zip']\n",
    "\n",
    "diretorio = fr'C:\\Temp\\Python_YT\\Download_File\\Combustiveis'\n",
    "\n",
    "fromaddr = \"dbaassists@gmail.com\"\n",
    "\n",
    "toaddr = \"dbaassists@gmail.com\"\n",
    "\n",
    "download_arquivo(link, arquivo, diretorio, fromaddr, toaddr)\n"
   ]
  },
  {
   "cell_type": "code",
   "execution_count": 5,
   "id": "6d3668d4",
   "metadata": {},
   "outputs": [
    {
     "name": "stdout",
     "output_type": "stream",
     "text": [
      "arquivo_primeiro_semestre_2022.zip\n",
      "arquivo_primeiro_semestre_2023.zip\n",
      "arquivo_segundo_semestre_2022.zip\n",
      "output\n"
     ]
    }
   ],
   "source": [
    "diretorio_zip = fr'C:\\Temp\\Python_YT\\Download_File\\Combustiveis'\n",
    "diretorio_unzip = fr'C:\\Temp\\Python_YT\\Download_File\\Combustiveis\\output'\n",
    "\n",
    "descompacta_arquivo(diretorio_zip,diretorio_unzip)"
   ]
  },
  {
   "cell_type": "code",
   "execution_count": 6,
   "id": "1b7b962d",
   "metadata": {},
   "outputs": [
    {
     "name": "stderr",
     "output_type": "stream",
     "text": [
      "C:\\Users\\lacer\\AppData\\Local\\Temp\\ipykernel_17816\\665052466.py:15: UserWarning: Parsing dates in DD/MM/YYYY format when dayfirst=False (the default) was specified. This may lead to inconsistently parsed dates! Specify a format to ensure consistent parsing.\n",
      "  df = pd.read_csv(path\n",
      "C:\\Users\\lacer\\AppData\\Local\\Temp\\ipykernel_17816\\665052466.py:15: UserWarning: Parsing dates in DD/MM/YYYY format when dayfirst=False (the default) was specified. This may lead to inconsistently parsed dates! Specify a format to ensure consistent parsing.\n",
      "  df = pd.read_csv(path\n",
      "C:\\Users\\lacer\\AppData\\Local\\Temp\\ipykernel_17816\\665052466.py:15: UserWarning: Parsing dates in DD/MM/YYYY format when dayfirst=False (the default) was specified. This may lead to inconsistently parsed dates! Specify a format to ensure consistent parsing.\n",
      "  df = pd.read_csv(path\n"
     ]
    }
   ],
   "source": [
    "diretorioarquivo = fr'C:\\Temp\\Python_YT\\Download_File\\Combustiveis\\output'\n",
    "separador=';'\n",
    "cabecalho=0\n",
    "colunas=[0,1,2,3,4,5,6,7,8,9,10,11,12,13,14,15]\n",
    "nomecolunas=['Regiao'\n",
    "             ,'UF'\n",
    "             ,'NomMunicipio'\n",
    "             ,'NomRevenda'\n",
    "             ,'NumCNPJRevenda'\n",
    "             ,'NomLogradouro'\n",
    "             ,'NrEndereco'\n",
    "             ,'NomComplemento'\n",
    "             ,'NomBairro'\n",
    "             ,'NumCep'\n",
    "             ,'DscProduto'\n",
    "             ,'DtColeta'\n",
    "             ,'VlrVenda'\n",
    "             ,'VlrCompra'\n",
    "             ,'UnMedida'\n",
    "             ,'DscBandeira'\n",
    "            ]\n",
    "tipodado={'Regiao':'str'\n",
    ",'UF':'str'\n",
    ",'NomMunicipio':'str'\n",
    ",'NomRevenda':'str'\n",
    ",'NumCNPJRevenda':'str'\n",
    ",'NrEndereco':'str'\n",
    ",'NomLogradouro':'str'\n",
    ",'NomComplemento':'str'\n",
    ",'NomBairro':'str'\n",
    ",'NumCep':'str'\n",
    ",'DscProduto':'str'\n",
    ",'DtColeta':'str'\n",
    ",'VlrVenda':'str'\n",
    ",'VlrCompra':'str'\n",
    ",'UnMedida':'str'\n",
    ",'DscBandeira':'str'\n",
    "}\n",
    "colunatipodata=['DtColeta']\n",
    "\n",
    "dfCombustivel = ingestao_arquivos(diretorioarquivo\n",
    "                       , separador\n",
    "                       , cabecalho\n",
    "                       , colunas\n",
    "                       , nomecolunas\n",
    "                       , tipodado\n",
    "                       , colunatipodata)"
   ]
  },
  {
   "cell_type": "code",
   "execution_count": 7,
   "id": "9d599ee0",
   "metadata": {},
   "outputs": [],
   "source": [
    "# TERCEIRO PASSO\n",
    "\n",
    "#TRATAMENTO DE VALORES NULOS    \n",
    "dfCombustivel['NomComplemento'].fillna('NI',inplace=True)\n",
    "dfCombustivel['NomLogradouro'].fillna('NI',inplace=True)\n",
    "dfCombustivel['NomBairro'].fillna('NI',inplace=True)\n",
    "dfCombustivel['VlrCompra'].fillna('0',inplace=True)\n",
    "\n",
    "#CRIAÇÃO DE COLUNAS NOVAS DE TEMPO - ANO, MES, ANOMES\n",
    "dfCombustivel['Ano'] = dfCombustivel['DtColeta'].dt.strftime('%Y')\n",
    "dfCombustivel['Mes'] = dfCombustivel['DtColeta'].dt.strftime('%m')\n",
    "dfCombustivel['AnoMes']  = dfCombustivel['DtColeta'].dt.strftime('%Y%m')\n",
    "\n",
    "#CRIAÇÃO DE COLUNA ENDERECO COMPLETO \n",
    "dfCombustivel['NomEnderecoCompleto'] = dfCombustivel['NomLogradouro'] \\\n",
    "                                        + ', NR: ' \\\n",
    "                                        + dfCombustivel['NrEndereco'] \\\n",
    "                                        + ', COMPLEMENTO: ' \\\n",
    "                                        + dfCombustivel['NomComplemento'] \\\n",
    "                                        + ' - BAIRRO: ' \\\n",
    "                                        + dfCombustivel['NomBairro']\n",
    "\n",
    "dfCombustivel['NomEnderecoCompleto'].fillna('NI',inplace=True)\n",
    "\n",
    "#CONVERSÃO DE TIPO DE DADOS\n",
    "dfCombustivel['VlrCompra'] = dfCombustivel['VlrCompra'].str.replace(',', '.').astype(float)\n",
    "dfCombustivel['VlrVenda'] = dfCombustivel['VlrVenda'].str.replace(',', '.').astype(float)"
   ]
  },
  {
   "cell_type": "code",
   "execution_count": 8,
   "id": "f0c36777",
   "metadata": {},
   "outputs": [],
   "source": [
    "resultEstadosAtuantes = dfCombustivel[((dfCombustivel['UF']=='CE') & (dfCombustivel['NomMunicipio']=='JUAZEIRO DO NORTE')) |\n",
    "                                     ((dfCombustivel['UF']=='MA') & (dfCombustivel['NomMunicipio']=='IMPERATRIZ')) |\n",
    "                                      ((dfCombustivel['UF']=='RJ') & (dfCombustivel['NomMunicipio']=='SAO GONCALO')) |\n",
    "                                      ((dfCombustivel['UF']=='SP') & (dfCombustivel['NomMunicipio']=='BARUERI')) \n",
    "                                     ].groupby(['Regiao'\n",
    "                                                ,'UF'\n",
    "                                                ,'NomMunicipio'\n",
    "                                                ,'NomBairro'\n",
    "                                                ,'NomRevenda'\n",
    "                                                ,'NomEnderecoCompleto'\n",
    "                                                ,'DscProduto'\n",
    "                                                ,'AnoMes'\n",
    "                                                ,'Ano'\n",
    "                                                ,'Mes'\n",
    "                                                ],as_index=False).agg(VlrMedio=('VlrVenda','mean'))"
   ]
  },
  {
   "cell_type": "code",
   "execution_count": 9,
   "id": "1aabc535",
   "metadata": {},
   "outputs": [],
   "source": [
    "resultRelatorioFinal = resultEstadosAtuantes.pivot(index=['Regiao'\n",
    "                                                ,'UF'\n",
    "                                                ,'NomMunicipio'\n",
    "                                                ,'NomBairro'\n",
    "                                                ,'NomRevenda'\n",
    "                                                ,'NomEnderecoCompleto'\n",
    "                                                ,'DscProduto'\n",
    "                                                ], columns=\"AnoMes\", values=\"VlrMedio\").fillna(0).reset_index()\n"
   ]
  },
  {
   "cell_type": "code",
   "execution_count": 13,
   "id": "8f76b5cd",
   "metadata": {},
   "outputs": [
    {
     "name": "stdout",
     "output_type": "stream",
     "text": [
      "Arquivo Estado do CE gerado com sucesso!\n",
      "Arquivo Estado do MA gerado com sucesso!\n",
      "Arquivo Estado do RJ gerado com sucesso!\n",
      "Arquivo Estado do SP gerado com sucesso!\n"
     ]
    }
   ],
   "source": [
    "\n",
    "listaUF = resultRelatorioFinal['UF'].unique()\n",
    "\n",
    "resultRelatorioFinal\n",
    "diretorioArquivo = 'C:\\Temp\\Python_YT\\Download_File\\Combustiveis\\enviado'\n",
    "fromaddr = \"dbaassists@gmail.com\"\n",
    "toaddr = \"dbaassists@gmail.com\"\n",
    "listaUF\n",
    "\n",
    "envia_arquivo_unidades(resultRelatorioFinal, diretorioArquivo ,fromaddr ,toaddr ,listaUF)"
   ]
  }
 ],
 "metadata": {
  "kernelspec": {
   "display_name": "Python 3 (ipykernel)",
   "language": "python",
   "name": "python3"
  },
  "language_info": {
   "codemirror_mode": {
    "name": "ipython",
    "version": 3
   },
   "file_extension": ".py",
   "mimetype": "text/x-python",
   "name": "python",
   "nbconvert_exporter": "python",
   "pygments_lexer": "ipython3",
   "version": "3.9.12"
  }
 },
 "nbformat": 4,
 "nbformat_minor": 5
}
